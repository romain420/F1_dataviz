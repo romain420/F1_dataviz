{
 "cells": [
  {
   "cell_type": "code",
   "execution_count": 1,
   "id": "d6811acb",
   "metadata": {
    "scrolled": false
   },
   "outputs": [
    {
     "name": "stderr",
     "output_type": "stream",
     "text": [
      "Registered S3 method overwritten by 'rvest':\n",
      "  method            from\n",
      "  read_xml.response xml2\n",
      "-- Attaching packages --------------------------------------- tidyverse 1.2.1 --\n",
      "v ggplot2 3.3.0       v purrr   0.3.2  \n",
      "v tibble  2.1.1       v dplyr   0.8.0.1\n",
      "v tidyr   0.8.3       v stringr 1.4.0  \n",
      "v readr   1.3.1       v forcats 0.4.0  \n",
      "Warning message:\n",
      "\"package 'ggplot2' was built under R version 3.6.2\"-- Conflicts ------------------------------------------ tidyverse_conflicts() --\n",
      "x dplyr::filter() masks stats::filter()\n",
      "x dplyr::lag()    masks stats::lag()\n",
      "Registered S3 method overwritten by 'GGally':\n",
      "  method from   \n",
      "  +.gg   ggplot2\n",
      "\n",
      "Attaching package: 'GGally'\n",
      "\n",
      "The following object is masked from 'package:dplyr':\n",
      "\n",
      "    nasa\n",
      "\n"
     ]
    }
   ],
   "source": [
    "library(tidyverse)\n",
    "library(ggplot2)\n",
    "library(GGally)"
   ]
  },
  {
   "cell_type": "code",
   "execution_count": null,
   "id": "5894e4f3",
   "metadata": {},
   "outputs": [],
   "source": [
    "df_circuits <- read.csv('circuits.csv')\n",
    "df_constructor_results <- read.csv('constructor_results.csv')\n",
    "df_constructor_standings <- read.csv('constructor_standings.csv')\n",
    "df_constructors <- read.csv('constructors.csv')\n",
    "df_driver_standings <- read.csv('driver_standings.csv')\n",
    "df_drivers <- read.csv('drivers.csv')\n",
    "df_lap_times <- read.csv('lap_times.csv')\n",
    "df_pit_stops <- read.csv('pit_stops.csv')\n",
    "df_qualifying <- read.csv('qualifying.csv')\n",
    "df_races <- read.csv('races.csv')\n",
    "df_results <- read.csv('results.csv')\n",
    "df_seasons <- read.csv('seasons.csv')\n",
    "df_status <- read.csv('status.csv')"
   ]
  },
  {
   "cell_type": "code",
   "execution_count": null,
   "id": "15f5dbe0",
   "metadata": {},
   "outputs": [],
   "source": []
  },
  {
   "cell_type": "code",
   "execution_count": null,
   "id": "85172d5b",
   "metadata": {},
   "outputs": [],
   "source": []
  }
 ],
 "metadata": {
  "kernelspec": {
   "display_name": "R",
   "language": "R",
   "name": "ir"
  },
  "language_info": {
   "codemirror_mode": "r",
   "file_extension": ".r",
   "mimetype": "text/x-r-source",
   "name": "R",
   "pygments_lexer": "r",
   "version": "3.6.1"
  }
 },
 "nbformat": 4,
 "nbformat_minor": 5
}
