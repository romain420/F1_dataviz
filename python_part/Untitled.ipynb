{
 "cells": [
  {
   "cell_type": "code",
   "execution_count": 1,
   "metadata": {},
   "outputs": [
    {
     "name": "stderr",
     "output_type": "stream",
     "text": [
      "C:\\Users\\Romain Dreuilhet\\anaconda3\\lib\\site-packages\\ipykernel_launcher.py:2: UserWarning: \n",
      "The dash_core_components package is deprecated. Please replace\n",
      "`import dash_core_components as dcc` with `from dash import dcc`\n",
      "  \n",
      "C:\\Users\\Romain Dreuilhet\\anaconda3\\lib\\site-packages\\ipykernel_launcher.py:3: UserWarning: \n",
      "The dash_html_components package is deprecated. Please replace\n",
      "`import dash_html_components as html` with `from dash import html`\n",
      "  This is separate from the ipykernel package so we can avoid doing imports until\n"
     ]
    }
   ],
   "source": [
    "import dash\n",
    "import dash_core_components as dcc\n",
    "import dash_html_components as html\n",
    "from dash.dependencies import Input, Output\n",
    "import plotly.graph_objects as go"
   ]
  },
  {
   "cell_type": "code",
   "execution_count": 4,
   "metadata": {},
   "outputs": [
    {
     "data": {
      "application/vnd.plotly.v1+json": {
       "config": {
        "plotlyServerURL": "https://plot.ly"
       },
       "data": [
        {
         "mode": "markers",
         "transforms": [
          {
           "aggregations": [
            {
             "enabled": true,
             "func": "sum",
             "target": "y"
            }
           ],
           "groups": [
            "Moe",
            "Larry",
            "Curly",
            "Moe",
            "Larry",
            "Curly",
            "Moe",
            "Larry",
            "Curly",
            "Moe",
            "Larry",
            "Curly"
           ],
           "type": "aggregate"
          }
         ],
         "type": "scatter",
         "x": [
          1,
          6,
          2,
          8,
          2,
          9,
          4,
          5,
          1,
          5,
          2,
          8
         ],
         "y": [
          "Moe",
          "Larry",
          "Curly",
          "Moe",
          "Larry",
          "Curly",
          "Moe",
          "Larry",
          "Curly",
          "Moe",
          "Larry",
          "Curly"
         ]
        }
       ],
       "layout": {
        "title": "<b>Plotly Aggregations</b><br>use dropdown to change aggregation",
        "updatemenus": [
         {
          "active": 1,
          "buttons": [
           {
            "args": [
             "transforms[0].aggregations[0].func",
             "count"
            ],
            "label": "count",
            "method": "restyle"
           },
           {
            "args": [
             "transforms[0].aggregations[0].func",
             "sum"
            ],
            "label": "sum",
            "method": "restyle"
           },
           {
            "args": [
             "transforms[0].aggregations[0].func",
             "avg"
            ],
            "label": "avg",
            "method": "restyle"
           },
           {
            "args": [
             "transforms[0].aggregations[0].func",
             "median"
            ],
            "label": "median",
            "method": "restyle"
           },
           {
            "args": [
             "transforms[0].aggregations[0].func",
             "mode"
            ],
            "label": "mode",
            "method": "restyle"
           },
           {
            "args": [
             "transforms[0].aggregations[0].func",
             "rms"
            ],
            "label": "rms",
            "method": "restyle"
           },
           {
            "args": [
             "transforms[0].aggregations[0].func",
             "stddev"
            ],
            "label": "stddev",
            "method": "restyle"
           },
           {
            "args": [
             "transforms[0].aggregations[0].func",
             "min"
            ],
            "label": "min",
            "method": "restyle"
           },
           {
            "args": [
             "transforms[0].aggregations[0].func",
             "max"
            ],
            "label": "max",
            "method": "restyle"
           },
           {
            "args": [
             "transforms[0].aggregations[0].func",
             "first"
            ],
            "label": "first",
            "method": "restyle"
           },
           {
            "args": [
             "transforms[0].aggregations[0].func",
             "last"
            ],
            "label": "last",
            "method": "restyle"
           }
          ],
          "showactive": false,
          "x": 0.85,
          "xref": "paper",
          "y": 1.15,
          "yanchor": "top",
          "yref": "paper"
         }
        ],
        "xaxis": {
         "title": "Subject"
        },
        "yaxis": {
         "range": [
          0,
          22
         ],
         "title": "Score"
        }
       }
      },
      "text/html": [
       "<div>                            <div id=\"dfb0c8b5-79a1-47a7-a37e-7511894ae1ec\" class=\"plotly-graph-div\" style=\"height:525px; width:100%;\"></div>            <script type=\"text/javascript\">                require([\"plotly\"], function(Plotly) {                    window.PLOTLYENV=window.PLOTLYENV || {};                                    if (document.getElementById(\"dfb0c8b5-79a1-47a7-a37e-7511894ae1ec\")) {                    Plotly.newPlot(                        \"dfb0c8b5-79a1-47a7-a37e-7511894ae1ec\",                        [{\"mode\":\"markers\",\"transforms\":[{\"aggregations\":[{\"enabled\":true,\"func\":\"sum\",\"target\":\"y\"}],\"groups\":[\"Moe\",\"Larry\",\"Curly\",\"Moe\",\"Larry\",\"Curly\",\"Moe\",\"Larry\",\"Curly\",\"Moe\",\"Larry\",\"Curly\"],\"type\":\"aggregate\"}],\"type\":\"scatter\",\"x\":[1,6,2,8,2,9,4,5,1,5,2,8],\"y\":[\"Moe\",\"Larry\",\"Curly\",\"Moe\",\"Larry\",\"Curly\",\"Moe\",\"Larry\",\"Curly\",\"Moe\",\"Larry\",\"Curly\"]}],                        {\"title\":\"<b>Plotly Aggregations</b><br>use dropdown to change aggregation\",\"updatemenus\":[{\"active\":1,\"buttons\":[{\"args\":[\"transforms[0].aggregations[0].func\",\"count\"],\"label\":\"count\",\"method\":\"restyle\"},{\"args\":[\"transforms[0].aggregations[0].func\",\"sum\"],\"label\":\"sum\",\"method\":\"restyle\"},{\"args\":[\"transforms[0].aggregations[0].func\",\"avg\"],\"label\":\"avg\",\"method\":\"restyle\"},{\"args\":[\"transforms[0].aggregations[0].func\",\"median\"],\"label\":\"median\",\"method\":\"restyle\"},{\"args\":[\"transforms[0].aggregations[0].func\",\"mode\"],\"label\":\"mode\",\"method\":\"restyle\"},{\"args\":[\"transforms[0].aggregations[0].func\",\"rms\"],\"label\":\"rms\",\"method\":\"restyle\"},{\"args\":[\"transforms[0].aggregations[0].func\",\"stddev\"],\"label\":\"stddev\",\"method\":\"restyle\"},{\"args\":[\"transforms[0].aggregations[0].func\",\"min\"],\"label\":\"min\",\"method\":\"restyle\"},{\"args\":[\"transforms[0].aggregations[0].func\",\"max\"],\"label\":\"max\",\"method\":\"restyle\"},{\"args\":[\"transforms[0].aggregations[0].func\",\"first\"],\"label\":\"first\",\"method\":\"restyle\"},{\"args\":[\"transforms[0].aggregations[0].func\",\"last\"],\"label\":\"last\",\"method\":\"restyle\"}],\"showactive\":false,\"x\":0.85,\"xref\":\"paper\",\"y\":1.15,\"yanchor\":\"top\",\"yref\":\"paper\"}],\"xaxis\":{\"title\":\"Subject\"},\"yaxis\":{\"range\":[0,22],\"title\":\"Score\"}},                        {\"responsive\": true}                    ).then(function(){\n",
       "                            \n",
       "var gd = document.getElementById('dfb0c8b5-79a1-47a7-a37e-7511894ae1ec');\n",
       "var x = new MutationObserver(function (mutations, observer) {{\n",
       "        var display = window.getComputedStyle(gd).display;\n",
       "        if (!display || display === 'none') {{\n",
       "            console.log([gd, 'removed!']);\n",
       "            Plotly.purge(gd);\n",
       "            observer.disconnect();\n",
       "        }}\n",
       "}});\n",
       "\n",
       "// Listen for the removal of the full notebook cells\n",
       "var notebookContainer = gd.closest('#notebook-container');\n",
       "if (notebookContainer) {{\n",
       "    x.observe(notebookContainer, {childList: true});\n",
       "}}\n",
       "\n",
       "// Listen for the clearing of the current output cell\n",
       "var outputEl = gd.closest('.output');\n",
       "if (outputEl) {{\n",
       "    x.observe(outputEl, {childList: true});\n",
       "}}\n",
       "\n",
       "                        })                };                });            </script>        </div>"
      ]
     },
     "metadata": {},
     "output_type": "display_data"
    }
   ],
   "source": [
    "import plotly.io as pio\n",
    "\n",
    "subject = ['Moe','Larry','Curly','Moe','Larry','Curly','Moe','Larry','Curly','Moe','Larry','Curly']\n",
    "score = [1,6,2,8,2,9,4,5,1,5,2,8]\n",
    "\n",
    "aggs = [\"count\",\"sum\",\"avg\",\"median\",\"mode\",\"rms\",\"stddev\",\"min\",\"max\",\"first\",\"last\"]\n",
    "\n",
    "agg = []\n",
    "agg_func = []\n",
    "for i in range(0, len(aggs)):\n",
    "    agg = dict(\n",
    "        args=['transforms[0].aggregations[0].func', aggs[i]],\n",
    "        label=aggs[i],\n",
    "        method='restyle'\n",
    "    )\n",
    "    agg_func.append(agg)\n",
    "\n",
    "\n",
    "data = [dict(\n",
    "  type = 'scatter',\n",
    "  x = score,\n",
    "  y = subject,\n",
    "  mode = 'markers',\n",
    "  transforms = [dict(\n",
    "    type = 'aggregate',\n",
    "    groups = subject,\n",
    "    aggregations = [dict(\n",
    "        target = 'y', func = 'sum', enabled = True)\n",
    "    ]\n",
    "  )]\n",
    ")]\n",
    "\n",
    "layout = dict(\n",
    "  title = '<b>Plotly Aggregations</b><br>use dropdown to change aggregation',\n",
    "  xaxis = dict(title = 'Subject'),\n",
    "  yaxis = dict(title = 'Score', range = [0,22]),\n",
    "  updatemenus = [dict(\n",
    "        x = 0.85,\n",
    "        y = 1.15,\n",
    "        xref = 'paper',\n",
    "        yref = 'paper',\n",
    "        yanchor = 'top',\n",
    "        active = 1,\n",
    "        showactive = False,\n",
    "        buttons = agg_func\n",
    "  )]\n",
    ")\n",
    "\n",
    "fig_dict = dict(data=data, layout=layout)\n",
    "\n",
    "pio.show(fig_dict, validate=False)"
   ]
  },
  {
   "cell_type": "code",
   "execution_count": 25,
   "metadata": {},
   "outputs": [],
   "source": [
    "# print('Download Starting...')\n",
    " \n",
    "# url = 'https://www.kaggle.com/rohanrao/formula-1-world-championship-1950-2020?select=circuits.csv'\n",
    " \n",
    "# r = requests.get(url)\n",
    " \n",
    "# filename = url.split('/')[-1] # this will take only -1 splitted part of the url\n",
    " \n",
    "# with open(filename,'wb') as output_file:\n",
    "#     output_file.write(r.content)\n",
    " \n",
    "# print('Download Completed!!!')\n",
    "\n",
    "# df = pd.read_csv('https://raw.githubusercontent.com/plotly/datasets/master/2014_us_cities.csv')\n",
    "# df.head()"
   ]
  },
  {
   "cell_type": "code",
   "execution_count": 6,
   "metadata": {},
   "outputs": [
    {
     "data": {
      "text/html": [
       "<div>\n",
       "<style scoped>\n",
       "    .dataframe tbody tr th:only-of-type {\n",
       "        vertical-align: middle;\n",
       "    }\n",
       "\n",
       "    .dataframe tbody tr th {\n",
       "        vertical-align: top;\n",
       "    }\n",
       "\n",
       "    .dataframe thead th {\n",
       "        text-align: right;\n",
       "    }\n",
       "</style>\n",
       "<table border=\"1\" class=\"dataframe\">\n",
       "  <thead>\n",
       "    <tr style=\"text-align: right;\">\n",
       "      <th></th>\n",
       "      <th>name</th>\n",
       "      <th>pop</th>\n",
       "      <th>lat</th>\n",
       "      <th>lon</th>\n",
       "      <th>text</th>\n",
       "    </tr>\n",
       "  </thead>\n",
       "  <tbody>\n",
       "    <tr>\n",
       "      <th>0</th>\n",
       "      <td>New York</td>\n",
       "      <td>8287238</td>\n",
       "      <td>40.730599</td>\n",
       "      <td>-73.986581</td>\n",
       "      <td>New York &lt;br&gt;Population 8.287238 million</td>\n",
       "    </tr>\n",
       "    <tr>\n",
       "      <th>1</th>\n",
       "      <td>Los Angeles</td>\n",
       "      <td>3826423</td>\n",
       "      <td>34.053717</td>\n",
       "      <td>-118.242727</td>\n",
       "      <td>Los Angeles &lt;br&gt;Population 3.826423 million</td>\n",
       "    </tr>\n",
       "    <tr>\n",
       "      <th>2</th>\n",
       "      <td>Chicago</td>\n",
       "      <td>2705627</td>\n",
       "      <td>41.875555</td>\n",
       "      <td>-87.624421</td>\n",
       "      <td>Chicago &lt;br&gt;Population 2.705627 million</td>\n",
       "    </tr>\n",
       "    <tr>\n",
       "      <th>3</th>\n",
       "      <td>Houston</td>\n",
       "      <td>2129784</td>\n",
       "      <td>29.758938</td>\n",
       "      <td>-95.367697</td>\n",
       "      <td>Houston &lt;br&gt;Population 2.129784 million</td>\n",
       "    </tr>\n",
       "    <tr>\n",
       "      <th>4</th>\n",
       "      <td>Philadelphia</td>\n",
       "      <td>1539313</td>\n",
       "      <td>39.952335</td>\n",
       "      <td>-75.163789</td>\n",
       "      <td>Philadelphia &lt;br&gt;Population 1.539313 million</td>\n",
       "    </tr>\n",
       "  </tbody>\n",
       "</table>\n",
       "</div>"
      ],
      "text/plain": [
       "            name      pop        lat         lon  \\\n",
       "0      New York   8287238  40.730599  -73.986581   \n",
       "1   Los Angeles   3826423  34.053717 -118.242727   \n",
       "2       Chicago   2705627  41.875555  -87.624421   \n",
       "3       Houston   2129784  29.758938  -95.367697   \n",
       "4  Philadelphia   1539313  39.952335  -75.163789   \n",
       "\n",
       "                                           text  \n",
       "0      New York <br>Population 8.287238 million  \n",
       "1   Los Angeles <br>Population 3.826423 million  \n",
       "2       Chicago <br>Population 2.705627 million  \n",
       "3       Houston <br>Population 2.129784 million  \n",
       "4  Philadelphia <br>Population 1.539313 million  "
      ]
     },
     "execution_count": 6,
     "metadata": {},
     "output_type": "execute_result"
    }
   ],
   "source": [
    "df['text'] = df['name'] + '<br>Population ' + (df['pop']/1e6).astype(str)+' million'\n",
    "limits = [(0,2),(3,10),(11,20),(21,50),(50,3000)]\n",
    "colors = [\"royalblue\",\"crimson\",\"lightseagreen\",\"orange\",\"lightgrey\"]\n",
    "cities = []\n",
    "scale = 5000\n",
    "df.head()"
   ]
  },
  {
   "cell_type": "code",
   "execution_count": 1,
   "metadata": {},
   "outputs": [
    {
     "ename": "NameError",
     "evalue": "name 'go' is not defined",
     "output_type": "error",
     "traceback": [
      "\u001b[1;31m---------------------------------------------------------------------------\u001b[0m",
      "\u001b[1;31mNameError\u001b[0m                                 Traceback (most recent call last)",
      "\u001b[1;32m<ipython-input-1-404bb3713102>\u001b[0m in \u001b[0;36m<module>\u001b[1;34m\u001b[0m\n\u001b[1;32m----> 1\u001b[1;33m \u001b[0mfig\u001b[0m \u001b[1;33m=\u001b[0m \u001b[0mgo\u001b[0m\u001b[1;33m.\u001b[0m\u001b[0mFigure\u001b[0m\u001b[1;33m(\u001b[0m\u001b[1;33m)\u001b[0m\u001b[1;33m\u001b[0m\u001b[1;33m\u001b[0m\u001b[0m\n\u001b[0m\u001b[0;32m      2\u001b[0m \u001b[1;33m\u001b[0m\u001b[0m\n\u001b[0;32m      3\u001b[0m \u001b[1;32mfor\u001b[0m \u001b[0mi\u001b[0m \u001b[1;32min\u001b[0m \u001b[0mrange\u001b[0m\u001b[1;33m(\u001b[0m\u001b[0mlen\u001b[0m\u001b[1;33m(\u001b[0m\u001b[0mlimits\u001b[0m\u001b[1;33m)\u001b[0m\u001b[1;33m)\u001b[0m\u001b[1;33m:\u001b[0m\u001b[1;33m\u001b[0m\u001b[1;33m\u001b[0m\u001b[0m\n\u001b[0;32m      4\u001b[0m     \u001b[0mlim\u001b[0m \u001b[1;33m=\u001b[0m \u001b[0mlimits\u001b[0m\u001b[1;33m[\u001b[0m\u001b[0mi\u001b[0m\u001b[1;33m]\u001b[0m\u001b[1;33m\u001b[0m\u001b[1;33m\u001b[0m\u001b[0m\n\u001b[0;32m      5\u001b[0m     \u001b[0mdf_sub\u001b[0m \u001b[1;33m=\u001b[0m \u001b[0mdf\u001b[0m\u001b[1;33m[\u001b[0m\u001b[0mlim\u001b[0m\u001b[1;33m[\u001b[0m\u001b[1;36m0\u001b[0m\u001b[1;33m]\u001b[0m\u001b[1;33m:\u001b[0m\u001b[0mlim\u001b[0m\u001b[1;33m[\u001b[0m\u001b[1;36m1\u001b[0m\u001b[1;33m]\u001b[0m\u001b[1;33m]\u001b[0m\u001b[1;33m\u001b[0m\u001b[1;33m\u001b[0m\u001b[0m\n",
      "\u001b[1;31mNameError\u001b[0m: name 'go' is not defined"
     ]
    }
   ],
   "source": [
    "fig = go.Figure()\n",
    "\n",
    "for i in range(len(limits)):\n",
    "    lim = limits[i]\n",
    "    df_sub = df[lim[0]:lim[1]]\n",
    "    fig.add_trace(go.Scattergeo(\n",
    "        locationmode = 'USA-states',\n",
    "        lon = df_sub['lon'],\n",
    "        lat = df_sub['lat'],\n",
    "        text = df_sub['text'],\n",
    "        marker = dict(\n",
    "            size = df_sub['pop']/scale,\n",
    "            color = colors[i],\n",
    "            line_color='rgb(40,40,40)',\n",
    "            line_width=0.5,\n",
    "            sizemode = 'area'\n",
    "        ),\n",
    "        name = '{0} - {1}'.format(lim[0],lim[1])))\n",
    "\n",
    "fig.update_layout(\n",
    "        title_text = '2014 US city populations<br>(Click legend to toggle traces)',\n",
    "        showlegend = True,\n",
    "        geo = dict(\n",
    "            scope = 'usa',\n",
    "            landcolor = 'rgb(217, 217, 217)',\n",
    "        )\n",
    "    )\n",
    "\n",
    "# fig.show()"
   ]
  }
 ],
 "metadata": {
  "kernelspec": {
   "display_name": "Python 3",
   "language": "python",
   "name": "python3"
  },
  "language_info": {
   "codemirror_mode": {
    "name": "ipython",
    "version": 3
   },
   "file_extension": ".py",
   "mimetype": "text/x-python",
   "name": "python",
   "nbconvert_exporter": "python",
   "pygments_lexer": "ipython3",
   "version": "3.7.6"
  }
 },
 "nbformat": 4,
 "nbformat_minor": 4
}
